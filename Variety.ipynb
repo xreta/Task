{
 "cells": [
  {
   "cell_type": "code",
   "execution_count": 4,
   "id": "a5a6558f",
   "metadata": {},
   "outputs": [],
   "source": [
    "import pandas as pd"
   ]
  },
  {
   "cell_type": "code",
   "execution_count": 5,
   "id": "7fd5cd84",
   "metadata": {},
   "outputs": [],
   "source": [
    "df = pd.read_csv(\"OSX_DS_assignment.csv\")"
   ]
  },
  {
   "cell_type": "code",
   "execution_count": 6,
   "id": "cd06e423",
   "metadata": {},
   "outputs": [],
   "source": [
    "df = df[['review_description', 'variety']]"
   ]
  },
  {
   "cell_type": "code",
   "execution_count": 7,
   "id": "c60685ac",
   "metadata": {},
   "outputs": [],
   "source": [
    "df.dropna(inplace=True)\n",
    "from sklearn.model_selection import train_test_split"
   ]
  },
  {
   "cell_type": "code",
   "execution_count": 8,
   "id": "7e730bfd",
   "metadata": {},
   "outputs": [
    {
     "name": "stderr",
     "output_type": "stream",
     "text": [
      "C:\\Users\\jamsh\\AppData\\Local\\Temp\\ipykernel_16776\\2014108205.py:2: FutureWarning: The default value of regex will change from True to False in a future version.\n",
      "  df['review_description'] = df['review_description'].str.replace('[^\\w\\s]', '')\n"
     ]
    }
   ],
   "source": [
    "df['review_description'] = df['review_description'].str.lower() \n",
    "df['review_description'] = df['review_description'].str.replace('[^\\w\\s]', '')  "
   ]
  },
  {
   "cell_type": "code",
   "execution_count": 9,
   "id": "5c851bf5",
   "metadata": {},
   "outputs": [],
   "source": [
    "train_data, test_data, train_labels, test_labels = train_test_split(\n",
    "    df['review_description'], df['variety'], test_size=0.2, random_state=42\n",
    ")"
   ]
  },
  {
   "cell_type": "code",
   "execution_count": 15,
   "id": "86312f31",
   "metadata": {},
   "outputs": [],
   "source": [
    "from sklearn.feature_extraction.text import TfidfVectorizer"
   ]
  },
  {
   "cell_type": "code",
   "execution_count": 16,
   "id": "9ef5901e",
   "metadata": {},
   "outputs": [],
   "source": [
    "vectorizer = TfidfVectorizer(ngram_range=(1, 2))  # n-gram range (unigrams and bigrams)"
   ]
  },
  {
   "cell_type": "code",
   "execution_count": 17,
   "id": "aba29a13",
   "metadata": {},
   "outputs": [],
   "source": [
    "train_features = vectorizer.fit_transform(train_data)\n",
    "test_features = vectorizer.transform(test_data)"
   ]
  },
  {
   "cell_type": "code",
   "execution_count": 20,
   "id": "f4ab4e01",
   "metadata": {},
   "outputs": [],
   "source": [
    "from sklearn.naive_bayes import MultinomialNB"
   ]
  },
  {
   "cell_type": "code",
   "execution_count": 19,
   "id": "0d7cb5c2",
   "metadata": {},
   "outputs": [
    {
     "data": {
      "text/plain": [
       "MultinomialNB()"
      ]
     },
     "execution_count": 19,
     "metadata": {},
     "output_type": "execute_result"
    }
   ],
   "source": [
    "classifier = MultinomialNB()\n",
    "classifier.fit(train_features, train_labels)"
   ]
  },
  {
   "cell_type": "code",
   "execution_count": 21,
   "id": "f745f2c5",
   "metadata": {},
   "outputs": [],
   "source": [
    "from sklearn.metrics import accuracy_score, precision_score, recall_score, f1_score"
   ]
  },
  {
   "cell_type": "code",
   "execution_count": 22,
   "id": "f7c42f49",
   "metadata": {},
   "outputs": [
    {
     "name": "stderr",
     "output_type": "stream",
     "text": [
      "C:\\Users\\jamsh\\anaconda3\\lib\\site-packages\\sklearn\\metrics\\_classification.py:1318: UndefinedMetricWarning: Precision is ill-defined and being set to 0.0 in labels with no predicted samples. Use `zero_division` parameter to control this behavior.\n",
      "  _warn_prf(average, modifier, msg_start, len(result))\n"
     ]
    }
   ],
   "source": [
    "predictions = classifier.predict(test_features)\n",
    "accuracy = accuracy_score(test_labels, predictions)\n",
    "precision = precision_score(test_labels, predictions, average='weighted')\n",
    "recall = recall_score(test_labels, predictions, average='weighted')\n",
    "f1 = f1_score(test_labels, predictions, average='weighted')"
   ]
  },
  {
   "cell_type": "code",
   "execution_count": 23,
   "id": "14a32c43",
   "metadata": {},
   "outputs": [
    {
     "name": "stdout",
     "output_type": "stream",
     "text": [
      "Accuracy: 0.39482216307766754\n",
      "Precision: 0.40712592603874037\n",
      "Recall: 0.39482216307766754\n",
      "F1 Score: 0.2838434615931117\n"
     ]
    }
   ],
   "source": [
    "print(\"Accuracy:\", accuracy)\n",
    "print(\"Precision:\", precision)\n",
    "print(\"Recall:\", recall)\n",
    "print(\"F1 Score:\", f1)"
   ]
  },
  {
   "cell_type": "code",
   "execution_count": 24,
   "id": "5015a65e",
   "metadata": {},
   "outputs": [
    {
     "name": "stderr",
     "output_type": "stream",
     "text": [
      "C:\\Users\\jamsh\\AppData\\Local\\Temp\\ipykernel_16776\\1569878372.py:9: FutureWarning: The default value of regex will change from True to False in a future version.\n",
      "  new_reviews = new_reviews.str.replace('[^\\w\\s]', '')\n"
     ]
    }
   ],
   "source": [
    "new_reviews = [\n",
    "    \"This wine has a rich aroma of dark fruits and a hint of spice.\",\n",
    "    \"I can taste the tropical flavors and crisp acidity in this white wine.\",\n",
    "    \"The red wine is full-bodied with velvety tannins and notes of black cherry.\"\n",
    "]\n",
    "\n",
    "new_reviews = pd.Series(new_reviews)\n",
    "new_reviews = new_reviews.str.lower()\n",
    "new_reviews = new_reviews.str.replace('[^\\w\\s]', '')"
   ]
  },
  {
   "cell_type": "code",
   "execution_count": 25,
   "id": "0d429ea0",
   "metadata": {},
   "outputs": [],
   "source": [
    "new_features = vectorizer.transform(new_reviews)\n",
    "new_predictions = classifier.predict(new_features)"
   ]
  },
  {
   "cell_type": "code",
   "execution_count": 26,
   "id": "e41ba7a1",
   "metadata": {},
   "outputs": [
    {
     "name": "stdout",
     "output_type": "stream",
     "text": [
      "Review: this wine has a rich aroma of dark fruits and a hint of spice\n",
      "Predicted Wine Variety: Pinot Noir\n",
      "\n",
      "Review: i can taste the tropical flavors and crisp acidity in this white wine\n",
      "Predicted Wine Variety: Chardonnay\n",
      "\n",
      "Review: the red wine is fullbodied with velvety tannins and notes of black cherry\n",
      "Predicted Wine Variety: Red Blend\n",
      "\n"
     ]
    }
   ],
   "source": [
    "for review, prediction in zip(new_reviews, new_predictions):\n",
    "    print(f\"Review: {review}\")\n",
    "    print(f\"Predicted Wine Variety: {prediction}\")\n",
    "    print()"
   ]
  },
  {
   "cell_type": "code",
   "execution_count": null,
   "id": "710671a6",
   "metadata": {},
   "outputs": [],
   "source": []
  }
 ],
 "metadata": {
  "kernelspec": {
   "display_name": "Python 3 (ipykernel)",
   "language": "python",
   "name": "python3"
  },
  "language_info": {
   "codemirror_mode": {
    "name": "ipython",
    "version": 3
   },
   "file_extension": ".py",
   "mimetype": "text/x-python",
   "name": "python",
   "nbconvert_exporter": "python",
   "pygments_lexer": "ipython3",
   "version": "3.9.13"
  }
 },
 "nbformat": 4,
 "nbformat_minor": 5
}
